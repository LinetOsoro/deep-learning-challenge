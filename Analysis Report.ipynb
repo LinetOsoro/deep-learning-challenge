{
 "cells": [
  {
   "cell_type": "markdown",
   "id": "7c7ddf0d",
   "metadata": {},
   "source": [
    "# Analysis Report\n",
    "Report on the Performance of Deep Learning Models for Alphabet Soup\n",
    "\n",
    "\n",
    "## Overview\n",
    "The objective of the deep learning model is to select funding applicants with the highest probability of success, aiming for\n",
    "an accuracy rate of 75% or higher.\n",
    "\n",
    "\n",
    "## Data Preprocessing\n",
    "Target Variable: 'IS_SUCCESSFUL' column from application_df.\n",
    "    \n",
    "Feature Variables: 'SPECIAL_CONSIDERATIONS', 'APPLICATION_TYPE', 'AFFILIATION', 'CLASSIFICATION', 'USE_CASE', \n",
    "                        'ORGANIZATION','INCOME_AMT'.\n",
    "        \n",
    "Removed Variables: 'EIN' and 'NAME' columns due to their lack of relevance.\n",
    "\n",
    "    \n",
    "## Model Architecture and Performance\n",
    "\n",
    "| Model Attempt                              | Model Parameters                                            | Accuracy | Loss  |\n",
    "|--------------------------------------------|-------------------------------------------------------------|----------|-------|\n",
    "| Attempt 1 (AlphabetSoupCharity)            | 80 nodes in layer 1, 30 nodes in layer 2                   | 73.24%   | 55.06%|\n",
    "| Attempt 2 (AlphabetSoupCharity2_Optimization) | 40 nodes in layer 1, 15 nodes in layer 2                | 72.26%   | 55.81%|\n",
    "| Attempt 3 (AlphabetSoupCharity1_Optimization) | 12 nodes in layer 1, 8 nodes in layer 2, 4 nodes in layer 3 | 73.24%   | 55.46%|\n",
    "\n",
    "\n",
    "#### Attempt 1:(AlphabetSoupCharity): Model Parameters: 80 hidden nodes in layer 1, 30 hidden nodes in layer 2.\n",
    "Result: Accuracy: 73.24%, Loss: 55.06%.\n",
    "\n",
    "#### Attempt 2:(AlphabetSoupCharity2_Optimization)\n",
    "Model Parameters: Reduced hidden nodes to half of Attempt 1 (40 in layer 1, 15 in layer 2).\n",
    "Result: Accuracy: 72.26%, Loss: 55.81%.\n",
    "\n",
    "#### Attempt 3:(AlphabetSoupCharity1_Optimization)\n",
    "Model Parameters: Implemented 3 layers, used ReLU activation in the second layer, with 12 hidden nodes in layer 1, 8 in layer 2, and 4 in layer 3.Result: Accuracy: 73.24%, Loss: 55.46%.\n",
    "            \n",
    "\n",
    "## Achievement of Target Performance\n",
    "The target accuracy of 75% was not achieved with any of the attempts.\n",
    "\n",
    "\n",
    "## Steps for Performance Improvement\n",
    "To enhance model performance, the following steps were taken:\n",
    "\n",
    "Increased the number of layers.\n",
    "\n",
    "Added additional hidden nodes.\n",
    "\n",
    "Adjusted activation functions.\n",
    "\n",
    "\n",
    "## Summary\n",
    "The deep learning model achieved an accuracy of approximately 73% in predicting successful applicants for funding. \n",
    "To further improve accuracy, additional data cleanup and experimentation with different model architectures and \n",
    "activation functions are recommended.\n",
    "\n"
   ]
  }
 ],
 "metadata": {
  "kernelspec": {
   "display_name": "Python 3 (ipykernel)",
   "language": "python",
   "name": "python3"
  },
  "language_info": {
   "codemirror_mode": {
    "name": "ipython",
    "version": 3
   },
   "file_extension": ".py",
   "mimetype": "text/x-python",
   "name": "python",
   "nbconvert_exporter": "python",
   "pygments_lexer": "ipython3",
   "version": "3.11.7"
  }
 },
 "nbformat": 4,
 "nbformat_minor": 5
}
